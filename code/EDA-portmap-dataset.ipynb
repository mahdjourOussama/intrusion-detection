{
 "cells": [
  {
   "attachments": {},
   "cell_type": "markdown",
   "metadata": {},
   "source": [
    "### importing libraries"
   ]
  },
  {
   "cell_type": "code",
   "execution_count": 1,
   "metadata": {},
   "outputs": [],
   "source": [
    "import pandas as pd\n",
    "import numpy as np \n",
    "import matplotlib.pyplot as plt"
   ]
  },
  {
   "attachments": {},
   "cell_type": "markdown",
   "metadata": {},
   "source": [
    "### data cleaning"
   ]
  },
  {
   "cell_type": "code",
   "execution_count": 2,
   "metadata": {},
   "outputs": [],
   "source": [
    "new=pd.read_csv(\"new_Portmap.csv\",low_memory=False)"
   ]
  },
  {
   "cell_type": "code",
   "execution_count": 3,
   "metadata": {},
   "outputs": [],
   "source": [
    "# drop SimillarHTTP because its causes unknown errors\n",
    "new.drop(\"SimillarHTTP\", axis=1, inplace=True)"
   ]
  },
  {
   "attachments": {},
   "cell_type": "markdown",
   "metadata": {},
   "source": [
    "transform object data to numeric data"
   ]
  },
  {
   "cell_type": "code",
   "execution_count": 4,
   "metadata": {},
   "outputs": [],
   "source": [
    "from sklearn.preprocessing import LabelEncoder\n",
    "le = LabelEncoder()\n",
    " \n",
    "# Using .fit_transform function to fit label\n",
    "# encoder and return encoded label\n",
    "c=0\n",
    "columns=new.columns\n",
    "for i in new.dtypes:\n",
    "    if(i==\"object\"  ):\n",
    "        label = le.fit_transform(new[columns[c]])\n",
    "        new.drop(columns[c], axis=1, inplace=True)\n",
    "        new[columns[c]] = label\n",
    "    c+=1\n"
   ]
  },
  {
   "attachments": {},
   "cell_type": "markdown",
   "metadata": {},
   "source": [
    "handle missing values and infinite"
   ]
  },
  {
   "cell_type": "code",
   "execution_count": 6,
   "metadata": {},
   "outputs": [
    {
     "name": "stdout",
     "output_type": "stream",
     "text": [
      "Unnamed: 0.1\t0\n",
      "Unnamed: 0\t0\n",
      "Flow ID\t0\n",
      "Source IP\t0\n",
      "Source Port\t0\n",
      "Destination IP\t0\n",
      "Destination Port\t0\n",
      "Protocol\t0\n",
      "Timestamp\t0\n",
      "Flow Duration\t0\n",
      "Total Fwd Packets\t0\n",
      "Total Backward Packets\t0\n",
      "Total Length of Fwd Packets\t0\n",
      "Total Length of Bwd Packets\t0\n",
      "Fwd Packet Length Max\t0\n",
      "Fwd Packet Length Min\t0\n",
      "Fwd Packet Length Mean\t0\n",
      "Fwd Packet Length Std\t0\n",
      "Bwd Packet Length Max\t0\n",
      "Bwd Packet Length Min\t0\n",
      "Bwd Packet Length Mean\t0\n",
      "Bwd Packet Length Std\t0\n",
      "Flow Bytes/s\t0\n",
      "Flow Packets/s\t0\n",
      "Flow IAT Mean\t0\n",
      "Flow IAT Std\t0\n",
      "Flow IAT Max\t0\n",
      "Flow IAT Min\t0\n",
      "Fwd IAT Total\t0\n",
      "Fwd IAT Mean\t0\n",
      "Fwd IAT Std\t0\n",
      "Fwd IAT Max\t0\n",
      "Fwd IAT Min\t0\n",
      "Bwd IAT Total\t0\n",
      "Bwd IAT Mean\t0\n",
      "Bwd IAT Std\t0\n",
      "Bwd IAT Max\t0\n",
      "Bwd IAT Min\t0\n",
      "Fwd PSH Flags\t0\n",
      "Bwd PSH Flags\t0\n",
      "Fwd URG Flags\t0\n",
      "Bwd URG Flags\t0\n",
      "Fwd Header Length\t0\n",
      "Bwd Header Length\t0\n",
      "Fwd Packets/s\t0\n",
      "Bwd Packets/s\t0\n",
      "Min Packet Length\t0\n",
      "Max Packet Length\t0\n",
      "Packet Length Mean\t0\n",
      "Packet Length Std\t0\n",
      "Packet Length Variance\t0\n",
      "FIN Flag Count\t0\n",
      "SYN Flag Count\t0\n",
      "RST Flag Count\t0\n",
      "PSH Flag Count\t0\n",
      "ACK Flag Count\t0\n",
      "URG Flag Count\t0\n",
      "CWE Flag Count\t0\n",
      "ECE Flag Count\t0\n",
      "Down/Up Ratio\t0\n",
      "Average Packet Size\t0\n",
      "Avg Fwd Segment Size\t0\n",
      "Avg Bwd Segment Size\t0\n",
      "Fwd Header Length.1\t0\n",
      "Fwd Avg Bytes/Bulk\t0\n",
      "Fwd Avg Packets/Bulk\t0\n",
      "Fwd Avg Bulk Rate\t0\n",
      "Bwd Avg Bytes/Bulk\t0\n",
      "Bwd Avg Packets/Bulk\t0\n",
      "Bwd Avg Bulk Rate\t0\n",
      "Subflow Fwd Packets\t0\n",
      "Subflow Fwd Bytes\t0\n",
      "Subflow Bwd Packets\t0\n",
      "Subflow Bwd Bytes\t0\n",
      "Init_Win_bytes_forward\t0\n",
      "Init_Win_bytes_backward\t0\n",
      "act_data_pkt_fwd\t0\n",
      "min_seg_size_forward\t0\n",
      "Active Mean\t0\n",
      "Active Std\t0\n",
      "Active Max\t0\n",
      "Active Min\t0\n",
      "Idle Mean\t0\n",
      "Idle Std\t0\n",
      "Idle Max\t0\n",
      "Idle Min\t0\n",
      "Inbound\t0\n"
     ]
    }
   ],
   "source": [
    "nul=new.isnull().sum()\n",
    "c=0\n",
    "for i in nul:\n",
    "    print(columns[c],end=\"\\t\")\n",
    "    print(i)\n",
    "    c+=1"
   ]
  },
  {
   "cell_type": "code",
   "execution_count": 6,
   "metadata": {},
   "outputs": [
    {
     "name": "stdout",
     "output_type": "stream",
     "text": [
      "False\n",
      "True\n"
     ]
    }
   ],
   "source": [
    "print(np.any(np.isnan(new)))\n",
    "print(np.all(np.isfinite(new)))"
   ]
  },
  {
   "cell_type": "code",
   "execution_count": 5,
   "metadata": {},
   "outputs": [],
   "source": [
    "new = new.dropna(axis=1)\n",
    "new = new.reset_index()\n",
    "target=\"Label\"\n",
    "new = new[np.isfinite(new).all(1)]\n",
    "X=new.drop([target],axis=1)\n",
    "y=new[target]"
   ]
  },
  {
   "attachments": {},
   "cell_type": "markdown",
   "metadata": {},
   "source": [
    "check data types "
   ]
  },
  {
   "cell_type": "code",
   "execution_count": null,
   "metadata": {},
   "outputs": [],
   "source": [
    "c=0\n",
    "columns=new.columns\n",
    "for i in new.dtypes:\n",
    "    print(c,end=\" \")\n",
    "    print(columns[c],end=\"\\t\")\n",
    "    print(i)\n",
    "    c+=1"
   ]
  },
  {
   "cell_type": "code",
   "execution_count": 8,
   "metadata": {},
   "outputs": [
    {
     "name": "stdout",
     "output_type": "stream",
     "text": [
      "(181894, 87)\n",
      "(181894,)\n"
     ]
    }
   ],
   "source": [
    "print(X.shape)\n",
    "print(y.shape)"
   ]
  },
  {
   "attachments": {},
   "cell_type": "markdown",
   "metadata": {},
   "source": [
    "### Feature Selection"
   ]
  },
  {
   "attachments": {},
   "cell_type": "markdown",
   "metadata": {},
   "source": [
    "#### RFFI"
   ]
  },
  {
   "cell_type": "code",
   "execution_count": null,
   "metadata": {},
   "outputs": [],
   "source": [
    "from sklearn.datasets import make_regression\n",
    "from sklearn.feature_selection import RFECV\n",
    "from sklearn.tree import DecisionTreeRegressor\n",
    "\n",
    "dtree = DecisionTreeRegressor()\n",
    "rfecv = RFECV(estimator=dtree, step=1, scoring=\"neg_mean_squared_error\", cv=4, verbose=1,\n",
    "                  n_jobs = 4)\n",
    "rfecv.fit(X, y)\n",
    "rfecv.transform(X)\n",
    "print(rfecv)\n",
    "print(rfecv.n_features_)\n"
   ]
  },
  {
   "cell_type": "code",
   "execution_count": null,
   "metadata": {},
   "outputs": [],
   "source": [
    "import matplotlib as plt\n",
    "from sklearn.ensemble import RandomForestRegressor\n",
    "\n",
    "\n",
    "# define the model\n",
    "model = RandomForestRegressor()\n",
    "# fit the model\n",
    "model.fit(X, y)\n",
    "# get importance\n",
    "importance = model.feature_importances_\n",
    "# summarize feature importance\n",
    "for i,v in enumerate(importance):\n",
    " print('Feature: %0d, Score: %.5f' % (i,v))\n",
    "# plot feature importance\n",
    "plt.bar([x for x in range(len(importance))], importance)\n",
    "plt.show()"
   ]
  },
  {
   "attachments": {},
   "cell_type": "markdown",
   "metadata": {},
   "source": [
    "#### RFE"
   ]
  },
  {
   "cell_type": "code",
   "execution_count": null,
   "metadata": {},
   "outputs": [],
   "source": [
    "from numpy import mean\n",
    "from numpy import std\n",
    "from sklearn.datasets import make_classification\n",
    "from sklearn.model_selection import cross_val_score\n",
    "from sklearn.model_selection import RepeatedStratifiedKFold\n",
    "from sklearn.feature_selection import RFE\n",
    "from sklearn.tree import DecisionTreeClassifier\n",
    "from sklearn.pipeline import Pipeline\n",
    "\n",
    "# create pipeline\n",
    "rfe = RFE(estimator=DecisionTreeClassifier(), n_features_to_select=5)\n",
    "model = DecisionTreeClassifier()\n",
    "pipeline = Pipeline(steps=[('s',rfe),('m',model)])\n",
    "# evaluate model\n",
    "cv = RepeatedStratifiedKFold(n_splits=10, n_repeats=3, random_state=1)\n",
    "n_scores = cross_val_score(pipeline, X, y, scoring='accuracy', cv=cv, n_jobs=-1, error_score='raise')\n",
    "# report performance\n",
    "print('Accuracy: %.3f (%.3f)' % (mean(n_scores), std(n_scores)))"
   ]
  },
  {
   "cell_type": "code",
   "execution_count": null,
   "metadata": {},
   "outputs": [],
   "source": [
    "from sklearn.svm import SVC\n",
    "from sklearn.datasets import make_classification\n",
    "\n",
    "from yellowbrick.model_selection import RFECV\n",
    "\n",
    "# Instantiate RFECV visualizer with a linear SVM classifier\n",
    "visualizer = RFECV(SVC(kernel='linear', C=1))\n",
    "\n",
    "visualizer.fit(X, y)        # Fit the data to the visualizer\n",
    "visualizer.show()           # Finalize and render the figure"
   ]
  },
  {
   "cell_type": "code",
   "execution_count": null,
   "metadata": {},
   "outputs": [],
   "source": [
    "from sklearn.ensemble import RandomForestClassifier\n",
    "from sklearn.model_selection import StratifiedKFold\n",
    "from yellowbrick.model_selection import rfecv\n",
    "v = StratifiedKFold(5)\n",
    "visualizer = rfecv(RandomForestClassifier(), X=X, y=y, scoring='f1_weighted')\n",
    "visualizer.show()   "
   ]
  },
  {
   "cell_type": "code",
   "execution_count": null,
   "metadata": {},
   "outputs": [],
   "source": [
    "from sklearn.linear_model import LogisticRegression\n",
    "columns=new.columns\n",
    "# define the model\n",
    "model = LogisticRegression()\n",
    "# fit the model\n",
    "model.fit(X, y)\n",
    "# get importance prediction \n",
    "importance = model.coef_[0]\n",
    "# summarize feature importance\n",
    "for i,v in enumerate(importance):\n",
    " print('Feature: %s, Score: %.5f' % (columns[i],v))\n",
    "# plot feature importance\n",
    "pyplot.bar([x for x in range(len(importance))], importance)\n",
    "pyplot.show()"
   ]
  },
  {
   "cell_type": "code",
   "execution_count": null,
   "metadata": {},
   "outputs": [],
   "source": [
    "from sklearn.datasets import make_friedman1\n",
    "from sklearn.feature_selection import RFE\n",
    "from sklearn.svm import SVR\n",
    "estimator = SVR(kernel=\"linear\")\n",
    "selector = RFE(estimator, n_features_to_select=88, step=1)\n",
    "selector = selector.fit(X, y)\n",
    "selector.support_\n",
    "selector.ranking_"
   ]
  }
 ],
 "metadata": {
  "kernelspec": {
   "display_name": "Python 3",
   "language": "python",
   "name": "python3"
  },
  "language_info": {
   "codemirror_mode": {
    "name": "ipython",
    "version": 3
   },
   "file_extension": ".py",
   "mimetype": "text/x-python",
   "name": "python",
   "nbconvert_exporter": "python",
   "pygments_lexer": "ipython3",
   "version": "3.10.10 (tags/v3.10.10:aad5f6a, Feb  7 2023, 17:20:36) [MSC v.1929 64 bit (AMD64)]"
  },
  "orig_nbformat": 4,
  "vscode": {
   "interpreter": {
    "hash": "1d881aeaef1ef3aab987bdbb086fb2aaa1cf26921d7277f23c40ea6ac8fd6c71"
   }
  }
 },
 "nbformat": 4,
 "nbformat_minor": 2
}
